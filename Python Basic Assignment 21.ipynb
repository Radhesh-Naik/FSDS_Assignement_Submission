{
 "cells": [
  {
   "cell_type": "markdown",
   "metadata": {},
   "source": [
    "1. Add the current date to the text file today.txt as a string."
   ]
  },
  {
   "cell_type": "code",
   "execution_count": 1,
   "metadata": {},
   "outputs": [],
   "source": [
    "from datetime import date\n",
    "\n",
    "file = open('today.txt', 'w')\n",
    "today = date.today()\n",
    "file.write(str(today))\n",
    "file.close()"
   ]
  },
  {
   "cell_type": "markdown",
   "metadata": {},
   "source": [
    "2. Read the text file today.txt into the string today_string"
   ]
  },
  {
   "cell_type": "code",
   "execution_count": 2,
   "metadata": {},
   "outputs": [
    {
     "name": "stdout",
     "output_type": "stream",
     "text": [
      "2021-07-21\n"
     ]
    }
   ],
   "source": [
    "with open('today.txt')as fin:\n",
    "    today_string = fin.read()\n",
    "    print(today_string)"
   ]
  },
  {
   "cell_type": "markdown",
   "metadata": {},
   "source": [
    "3. Parse the date from today_string."
   ]
  },
  {
   "cell_type": "code",
   "execution_count": 3,
   "metadata": {},
   "outputs": [
    {
     "data": {
      "text/plain": [
       "time.struct_time(tm_year=2021, tm_mon=7, tm_mday=21, tm_hour=0, tm_min=0, tm_sec=0, tm_wday=2, tm_yday=202, tm_isdst=-1)"
      ]
     },
     "execution_count": 3,
     "metadata": {},
     "output_type": "execute_result"
    }
   ],
   "source": [
    "import time\n",
    "\n",
    "fmt = \"%Y-%m-%d\"\n",
    "time.strptime(today_string, fmt)"
   ]
  },
  {
   "cell_type": "markdown",
   "metadata": {},
   "source": [
    "4. List the files in your current directory"
   ]
  },
  {
   "cell_type": "code",
   "execution_count": 4,
   "metadata": {},
   "outputs": [
    {
     "data": {
      "text/plain": [
       "['.ipynb_checkpoints',\n",
       " 'assignment_3-checkpoint.ipynb',\n",
       " 'books.csv',\n",
       " 'books.db',\n",
       " 'books1.db',\n",
       " 'New folder',\n",
       " 'programLog.txt',\n",
       " 'Python Basic Assignment 10.ipynb',\n",
       " 'Python Basic Assignment 11.ipynb',\n",
       " 'Python Basic Assignment 12.ipynb',\n",
       " 'Python Basic Assignment 13.ipynb',\n",
       " 'Python Basic Assignment 14.ipynb',\n",
       " 'Python Basic Assignment 15.ipynb',\n",
       " 'Python Basic Assignment 16.ipynb',\n",
       " 'Python Basic Assignment 17.ipynb',\n",
       " 'Python Basic Assignment 20.ipynb',\n",
       " 'Python Basic Assignment 21.ipynb',\n",
       " 'Python Basic Assignment 4.ipynb',\n",
       " 'Python Basic Assignment 5.ipynb',\n",
       " 'Python Basic Assignment 6.ipynb',\n",
       " 'Python Basic Assignment 7.ipynb',\n",
       " 'Python Basic Assignment 8.ipynb',\n",
       " 'Python Basic Assignment 9.ipynb',\n",
       " 'test.txt',\n",
       " 'today.txt',\n",
       " 'Untitled Folder']"
      ]
     },
     "execution_count": 4,
     "metadata": {},
     "output_type": "execute_result"
    }
   ],
   "source": [
    "import os\n",
    "\n",
    "os.listdir('.')"
   ]
  },
  {
   "cell_type": "markdown",
   "metadata": {},
   "source": [
    "5. Create a list of all of the files in your parent directory (minimum five files should be available)."
   ]
  },
  {
   "cell_type": "code",
   "execution_count": 5,
   "metadata": {},
   "outputs": [
    {
     "data": {
      "text/plain": [
       "['.ipynb_checkpoints',\n",
       " 'Assignment_1-done.docx',\n",
       " 'Assignment_10-done.docx',\n",
       " 'Assignment_11-done.docx',\n",
       " 'Assignment_12-done.docx',\n",
       " 'Assignment_13-done.docx',\n",
       " 'Assignment_14-done.docx',\n",
       " 'Assignment_15-done.docx',\n",
       " 'Assignment_16-done.docx',\n",
       " 'Assignment_17-done.docx',\n",
       " 'Assignment_18-done.docx',\n",
       " 'Assignment_19-done.docx',\n",
       " 'Assignment_2-done.docx',\n",
       " 'Assignment_20-done.docx',\n",
       " 'Assignment_21.docx',\n",
       " 'Assignment_22.docx',\n",
       " 'Assignment_23.docx',\n",
       " 'Assignment_24.docx',\n",
       " 'Assignment_25.docx',\n",
       " 'Assignment_3-done.docx',\n",
       " 'assignment_3.ipynb',\n",
       " 'Assignment_4-done.docx',\n",
       " 'Assignment_5-done.docx',\n",
       " 'Assignment_6-done.docx',\n",
       " 'Assignment_7-done.docx',\n",
       " 'Assignment_8-done.docx',\n",
       " 'Assignment_9-done.docx',\n",
       " 'Skype-8.68.0.96.exe',\n",
       " '~$signment_14.docx',\n",
       " '~$signment_21.docx']"
      ]
     },
     "execution_count": 5,
     "metadata": {},
     "output_type": "execute_result"
    }
   ],
   "source": [
    "import os\n",
    "\n",
    "os.listdir('..')"
   ]
  },
  {
   "cell_type": "markdown",
   "metadata": {},
   "source": [
    "6. Use multiprocessing to create three separate processes. Make each one wait a random number of seconds between one and five, print the current time, and then exit."
   ]
  },
  {
   "cell_type": "code",
   "execution_count": 6,
   "metadata": {},
   "outputs": [],
   "source": [
    "import multiprocessing\n",
    "from datetime import datetime\n",
    "from time import sleep\n",
    "import random\n",
    "\n",
    "\n",
    "def now(seconds):\n",
    "    sleep(seconds)\n",
    "    print(\"wait\", seconds, \" seconds\", \"time is \", datetime.now())\n",
    "\n",
    "\n",
    "if __name__ == \"__main__\":\n",
    "    for n in range(3):\n",
    "        seconds = random.random()\n",
    "        proc = multiprocessing.Process(target=now, args=(seconds,))\n",
    "        proc.start()"
   ]
  },
  {
   "cell_type": "markdown",
   "metadata": {},
   "source": [
    "7. Create a date object of your day of birth."
   ]
  },
  {
   "cell_type": "code",
   "execution_count": 8,
   "metadata": {},
   "outputs": [],
   "source": [
    "BD = date(1989, 8, 26)"
   ]
  },
  {
   "cell_type": "code",
   "execution_count": 9,
   "metadata": {},
   "outputs": [
    {
     "data": {
      "text/plain": [
       "datetime.date(1989, 8, 26)"
      ]
     },
     "execution_count": 9,
     "metadata": {},
     "output_type": "execute_result"
    }
   ],
   "source": [
    "BD"
   ]
  },
  {
   "cell_type": "markdown",
   "metadata": {},
   "source": [
    "8. What day of the week was your day of birth?"
   ]
  },
  {
   "cell_type": "code",
   "execution_count": 10,
   "metadata": {},
   "outputs": [
    {
     "data": {
      "text/plain": [
       "5"
      ]
     },
     "execution_count": 10,
     "metadata": {},
     "output_type": "execute_result"
    }
   ],
   "source": [
    "BD.weekday()"
   ]
  },
  {
   "cell_type": "markdown",
   "metadata": {},
   "source": [
    "9. When will you be (or when were you) 10,000 days old?"
   ]
  },
  {
   "cell_type": "code",
   "execution_count": 11,
   "metadata": {},
   "outputs": [
    {
     "name": "stdout",
     "output_type": "stream",
     "text": [
      "2017-01-11\n"
     ]
    }
   ],
   "source": [
    "from datetime import timedelta\n",
    "party_day = BD + timedelta(days=10000)\n",
    "print(party_day)"
   ]
  },
  {
   "cell_type": "code",
   "execution_count": null,
   "metadata": {},
   "outputs": [],
   "source": []
  }
 ],
 "metadata": {
  "kernelspec": {
   "display_name": "Python 3",
   "language": "python",
   "name": "python3"
  },
  "language_info": {
   "codemirror_mode": {
    "name": "ipython",
    "version": 3
   },
   "file_extension": ".py",
   "mimetype": "text/x-python",
   "name": "python",
   "nbconvert_exporter": "python",
   "pygments_lexer": "ipython3",
   "version": "3.8.5"
  }
 },
 "nbformat": 4,
 "nbformat_minor": 4
}
