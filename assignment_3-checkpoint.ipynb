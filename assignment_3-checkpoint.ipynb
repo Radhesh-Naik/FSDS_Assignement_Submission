{
 "cells": [
  {
   "cell_type": "markdown",
   "metadata": {},
   "source": [
    "1. Why are functions advantageous to have in your programs?"
   ]
  },
  {
   "cell_type": "markdown",
   "metadata": {},
   "source": [
    "Ans. Using functions to write code in systematically in modular way, giving a proper structure to the application.\n",
    "using functions has its advantages of making the code more readable, modular and easy for maintaining."
   ]
  },
  {
   "cell_type": "markdown",
   "metadata": {},
   "source": [
    "2. When does the code in a function run: when it's specified or when it's called?"
   ]
  },
  {
   "cell_type": "markdown",
   "metadata": {},
   "source": [
    "Ans: The code for the function will run when the function is called."
   ]
  },
  {
   "cell_type": "markdown",
   "metadata": {},
   "source": [
    "3. What statement creates a function?"
   ]
  },
  {
   "cell_type": "markdown",
   "metadata": {},
   "source": [
    "def function():\n",
    "    #logic"
   ]
  },
  {
   "cell_type": "markdown",
   "metadata": {},
   "source": [
    "4. What is the difference between a function and a function call?"
   ]
  },
  {
   "cell_type": "markdown",
   "metadata": {},
   "source": [
    "Ans: Function: Defining and writing the logic for the function.\n",
    "     Function call: Creating object of the function and invoking the object."
   ]
  },
  {
   "cell_type": "code",
   "execution_count": 4,
   "metadata": {},
   "outputs": [
    {
     "data": {
      "text/plain": [
       "True"
      ]
     },
     "execution_count": 4,
     "metadata": {},
     "output_type": "execute_result"
    }
   ],
   "source": [
    "#function\n",
    "def test():\n",
    "    return True\n",
    "\n",
    "#function call\n",
    "x = test()\n",
    "x\n",
    "#or\n",
    "test()"
   ]
  },
  {
   "cell_type": "markdown",
   "metadata": {},
   "source": [
    "5. How many global scopes are there in a Python program? How many local scopes?"
   ]
  },
  {
   "cell_type": "code",
   "execution_count": 5,
   "metadata": {},
   "outputs": [
    {
     "name": "stdout",
     "output_type": "stream",
     "text": [
      "2\n",
      "3\n"
     ]
    }
   ],
   "source": [
    "#global scope for a variable\n",
    "x = 3\n",
    "\n",
    "def test():\n",
    "    #local scope variable\n",
    "    x = 2\n",
    "    print(x)\n",
    "\n",
    "test()\n",
    "\n",
    "print(x)"
   ]
  },
  {
   "cell_type": "markdown",
   "metadata": {},
   "source": [
    "Global scope: the value does not change and remain the same through out the excution lifespan of an application.\n",
    "Local scope : The value is specific to the function and once the control is passed out of the function the variable value is lost."
   ]
  },
  {
   "cell_type": "markdown",
   "metadata": {},
   "source": [
    "6. What happens to variables in a local scope when the function call returns?"
   ]
  },
  {
   "cell_type": "markdown",
   "metadata": {},
   "source": [
    "Ans: If the local variable is used in the return statement to pass back some value, then the value will be stored in the variable reference.\n",
    "After which the local variable and the value stored are unreachable rather disposed off.\n",
    "Eg:"
   ]
  },
  {
   "cell_type": "code",
   "execution_count": 1,
   "metadata": {},
   "outputs": [
    {
     "name": "stdout",
     "output_type": "stream",
     "text": [
      "2\n"
     ]
    }
   ],
   "source": [
    "def test():\n",
    "    #local scope variable\n",
    "    x = 2\n",
    "    return x\n",
    "\n",
    "y = test()\n",
    "\n",
    "print(y)"
   ]
  },
  {
   "cell_type": "markdown",
   "metadata": {},
   "source": [
    "7. What is the concept of a return value? Is it possible to have a return value in an expression?"
   ]
  },
  {
   "cell_type": "markdown",
   "metadata": {},
   "source": [
    "Ans: Using the return statement the we can return back the output after the function logic has been executed.\n",
    "An expression has to return an value and it doesnot explicitly need a return statement.\n",
    "Although as we are receiving the value back we can say the in built functions will have a return statement to return the value."
   ]
  },
  {
   "cell_type": "markdown",
   "metadata": {},
   "source": [
    "8.If a function does not have a return statement, what is the return value of a call to that function?"
   ]
  },
  {
   "cell_type": "code",
   "execution_count": 6,
   "metadata": {},
   "outputs": [],
   "source": [
    "def Test():\n",
    "    a = 1+2\n",
    "\n",
    "c = Test()"
   ]
  },
  {
   "cell_type": "markdown",
   "metadata": {},
   "source": [
    "If a function doesnot have a return clause then the instance for the object of the class when called will give no output."
   ]
  },
  {
   "cell_type": "markdown",
   "metadata": {},
   "source": [
    "9. How do you make a function variable refer to the global variable?"
   ]
  },
  {
   "cell_type": "code",
   "execution_count": 8,
   "metadata": {},
   "outputs": [],
   "source": [
    "a = 10\n",
    "\n",
    "def TestGlobalVar():\n",
    "    b=a\n",
    "    return b\n"
   ]
  },
  {
   "cell_type": "code",
   "execution_count": 9,
   "metadata": {},
   "outputs": [],
   "source": [
    "objA = TestGlobalVar()"
   ]
  },
  {
   "cell_type": "code",
   "execution_count": 10,
   "metadata": {},
   "outputs": [
    {
     "data": {
      "text/plain": [
       "10"
      ]
     },
     "execution_count": 10,
     "metadata": {},
     "output_type": "execute_result"
    }
   ],
   "source": [
    "objA"
   ]
  },
  {
   "cell_type": "markdown",
   "metadata": {},
   "source": [
    "By defining the variable outside the scope of the fucntion and initializing the function variable to global value."
   ]
  },
  {
   "cell_type": "markdown",
   "metadata": {},
   "source": [
    "10. What is the data type of None?"
   ]
  },
  {
   "cell_type": "markdown",
   "metadata": {},
   "source": [
    "It is of NoneType class. It doesnot belong to any other datatype."
   ]
  },
  {
   "cell_type": "markdown",
   "metadata": {},
   "source": [
    "11. What does the sentence import areallyourpetsnamederic do?"
   ]
  },
  {
   "cell_type": "markdown",
   "metadata": {},
   "source": [
    "import areallyourpetsnamederic\n",
    "\n",
    "This states the compiler to load all the functions in the areallyourpetsnamederic library to the application scope memory for using and reusing the functions when necessary."
   ]
  },
  {
   "cell_type": "markdown",
   "metadata": {},
   "source": [
    "12. If you had a bacon() feature in a spam module, what would you call it after importing spam?"
   ]
  },
  {
   "cell_type": "markdown",
   "metadata": {},
   "source": [
    "import spam\n",
    "\n",
    "objbacon = spam.bacon()\n",
    "\n",
    "OR\n",
    "\n",
    "import spam as sp\n",
    "\n",
    "objbacon = sp.bacon()\n",
    "\n",
    "Using the above ways we can access the bacon function from spam library"
   ]
  },
  {
   "cell_type": "markdown",
   "metadata": {},
   "source": [
    "13. What can you do to save a programme from crashing if it encounters an error?"
   ]
  },
  {
   "cell_type": "markdown",
   "metadata": {},
   "source": [
    "To avoid any unnecesary crashing of the application the respective function can be wrapped in try\n",
    "except finally block and/or the root function or the entry point of the application should be wrapped in try except finally block.\n",
    "\n",
    "Using the concept of exception handling will help in avoiding embarassing situation from application."
   ]
  },
  {
   "cell_type": "markdown",
   "metadata": {},
   "source": [
    "14. What is the purpose of the try clause? What is the purpose of the except clause?"
   ]
  },
  {
   "cell_type": "markdown",
   "metadata": {},
   "source": [
    "try block:\n",
    "    the code inside the try block is the actual business logic or application logic which after completing execution give a desired output for further processing.\n",
    "\n",
    "except block:\n",
    "    if while executing the business logic inside the try block there has been an runtime exception which have not been accounted for, then it will be handled in except block and would properlly terminate the application.\n",
    "    \n",
    "\n",
    "try:\n",
    "    //business logic\n",
    "except exception as ex:\n",
    "    //exception handling"
   ]
  }
 ],
 "metadata": {
  "kernelspec": {
   "display_name": "Python 3",
   "language": "python",
   "name": "python3"
  },
  "language_info": {
   "codemirror_mode": {
    "name": "ipython",
    "version": 3
   },
   "file_extension": ".py",
   "mimetype": "text/x-python",
   "name": "python",
   "nbconvert_exporter": "python",
   "pygments_lexer": "ipython3",
   "version": "3.8.5"
  }
 },
 "nbformat": 4,
 "nbformat_minor": 4
}
