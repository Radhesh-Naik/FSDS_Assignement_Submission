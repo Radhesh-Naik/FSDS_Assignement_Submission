{
 "cells": [
  {
   "cell_type": "markdown",
   "metadata": {},
   "source": [
    "1. What is the result of the code, and why?\n",
    ">>> def func(a, b=6, c=8):\n",
    "print(a, b, c)\n",
    ">>> func(1, 2)\n"
   ]
  },
  {
   "cell_type": "code",
   "execution_count": 1,
   "metadata": {},
   "outputs": [
    {
     "name": "stdout",
     "output_type": "stream",
     "text": [
      "1 2 8\n"
     ]
    }
   ],
   "source": [
    "def func(a, b=6, c=8):\n",
    "    print(a, b, c)\n",
    "func(1, 2)"
   ]
  },
  {
   "cell_type": "markdown",
   "metadata": {},
   "source": [
    "The above function takes 3 parameters a, b and c. b and c have default values so while invoking the function it is mandatory to pass only one argument for a.\n",
    "when func(1,2) is invoked, it assigns 1 to a and 2 to b where as for c it takes the default value of 8."
   ]
  },
  {
   "cell_type": "code",
   "execution_count": null,
   "metadata": {},
   "outputs": [],
   "source": [
    "2. What is the result of this code, and why?\n",
    ">>> def func(a, b, c=5):\n",
    "print(a, b, c)\n",
    ">>> func(1, c=3, b=2)\n"
   ]
  },
  {
   "cell_type": "code",
   "execution_count": 2,
   "metadata": {},
   "outputs": [
    {
     "name": "stdout",
     "output_type": "stream",
     "text": [
      "1 2 3\n"
     ]
    }
   ],
   "source": [
    "def func(a, b, c=5):\n",
    "    print(a, b, c)\n",
    "func(1, c=3, b=2)"
   ]
  },
  {
   "cell_type": "code",
   "execution_count": null,
   "metadata": {},
   "outputs": [],
   "source": [
    "here, we have passed values for c and b through key value pair for explicit binding."
   ]
  },
  {
   "cell_type": "code",
   "execution_count": null,
   "metadata": {},
   "outputs": [],
   "source": [
    "3. How about this code: what is its result, and why?\n",
    ">>> def func(a, *pargs):\n",
    "print(a, pargs)\n",
    ">>> func(1, 2, 3)\n"
   ]
  },
  {
   "cell_type": "code",
   "execution_count": 3,
   "metadata": {},
   "outputs": [
    {
     "name": "stdout",
     "output_type": "stream",
     "text": [
      "1 (2, 3)\n"
     ]
    }
   ],
   "source": [
    "def func(a, *pargs):\n",
    "    print(a, pargs)\n",
    "func(1, 2, 3)"
   ]
  },
  {
   "cell_type": "code",
   "execution_count": null,
   "metadata": {},
   "outputs": [],
   "source": [
    "here the first argument for the function is for a where as post that any number of values will be assigned to the params parameter for the function."
   ]
  },
  {
   "cell_type": "code",
   "execution_count": null,
   "metadata": {},
   "outputs": [],
   "source": [
    "4. What does this code print, and why?\n",
    ">>> def func(a, **kargs):\n",
    "print(a, kargs)\n",
    ">>> func(a=1, c=3, b=2)\n"
   ]
  },
  {
   "cell_type": "code",
   "execution_count": 4,
   "metadata": {},
   "outputs": [
    {
     "name": "stdout",
     "output_type": "stream",
     "text": [
      "1 {'c': 3, 'b': 2}\n"
     ]
    }
   ],
   "source": [
    "def func(a, **kargs):\n",
    "    print(a, kargs)\n",
    "func(a=1, c=3, b=2)"
   ]
  },
  {
   "cell_type": "code",
   "execution_count": null,
   "metadata": {},
   "outputs": [],
   "source": [
    "here from the 2nd arguments onwards the function expects parameters in key value pair as the parameter for the function is keyword args."
   ]
  },
  {
   "cell_type": "code",
   "execution_count": null,
   "metadata": {},
   "outputs": [],
   "source": [
    "5. What gets printed by this, and explain?\n",
    ">>> def func(a, b, c=8, d=5): print(a, b, c, d)\n",
    ">>> func(1, *(5, 6))\n"
   ]
  },
  {
   "cell_type": "code",
   "execution_count": 5,
   "metadata": {},
   "outputs": [
    {
     "name": "stdout",
     "output_type": "stream",
     "text": [
      "1 5 6 5\n"
     ]
    }
   ],
   "source": [
    "def func(a, b, c=8, d=5): \n",
    "    print(a, b, c, d)\n",
    "func(1, *(5, 6))"
   ]
  },
  {
   "cell_type": "code",
   "execution_count": null,
   "metadata": {},
   "outputs": [],
   "source": [
    "here, for 2nd and 3rd parameters value is passed through explict params(*). "
   ]
  },
  {
   "cell_type": "code",
   "execution_count": null,
   "metadata": {},
   "outputs": [],
   "source": [
    "6. what is the result of this, and explain?\n",
    ">>> def func(a, b, c): a = 2; b[0] = 'x'; c['a'] = 'y'\n",
    ">>> l=1; m=[1]; n={'a':0}\n",
    ">>> func(l, m, n)\n",
    ">>> l, m, n"
   ]
  },
  {
   "cell_type": "code",
   "execution_count": 9,
   "metadata": {},
   "outputs": [
    {
     "data": {
      "text/plain": [
       "(1, ['x'], {'a': 'y'})"
      ]
     },
     "execution_count": 9,
     "metadata": {},
     "output_type": "execute_result"
    }
   ],
   "source": [
    "def func(a, b, c):\n",
    "    a = 2;\n",
    "    b[0] = 'x';\n",
    "    c['a'] = 'y'\n",
    "l=1; m=[1]; n={'a':0}\n",
    "func(l, m, n)\n",
    "l, m, n"
   ]
  },
  {
   "cell_type": "code",
   "execution_count": null,
   "metadata": {},
   "outputs": [],
   "source": [
    "here the value of l is not overridden as it is primitive datatype, whereas for m and n as they are list and dictionary there values have been updated"
   ]
  },
  {
   "cell_type": "code",
   "execution_count": null,
   "metadata": {},
   "outputs": [],
   "source": []
  }
 ],
 "metadata": {
  "kernelspec": {
   "display_name": "Python 3",
   "language": "python",
   "name": "python3"
  },
  "language_info": {
   "codemirror_mode": {
    "name": "ipython",
    "version": 3
   },
   "file_extension": ".py",
   "mimetype": "text/x-python",
   "name": "python",
   "nbconvert_exporter": "python",
   "pygments_lexer": "ipython3",
   "version": "3.8.5"
  }
 },
 "nbformat": 4,
 "nbformat_minor": 4
}
